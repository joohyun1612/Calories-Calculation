{
  "nbformat": 4,
  "nbformat_minor": 0,
  "metadata": {
    "colab": {
      "name": "Calories Calculation.ipynb",
      "provenance": []
    },
    "kernelspec": {
      "name": "python3",
      "display_name": "Python 3"
    },
    "language_info": {
      "name": "python"
    }
  },
  "cells": [
    {
      "cell_type": "code",
      "execution_count": 1,
      "metadata": {
        "colab": {
          "base_uri": "https://localhost:8080/"
        },
        "id": "xpwopWR-j6Jv",
        "outputId": "1f265d22-398a-43aa-a35d-b626a93ecde4"
      },
      "outputs": [
        {
          "output_type": "stream",
          "name": "stdout",
          "text": [
            "What is your age: 20\n",
            "What is your gender: female\n",
            "What is your weight: 46\n",
            "What is your height in centimeters: 160\n",
            "What is your activity level (none, light, moderate, heavy, or extreme): moderate\n",
            "Do you want to lose, maintain, or gain weight: lose\n",
            "in order to  lose weight, your daily caloric goals should be 1150 !\n"
          ]
        }
      ],
      "source": [
        "def user_info():\n",
        "    age = int(input('What is your age: '))\n",
        "    gender = input('What is your gender: ')\n",
        "    weight = int(input('What is your weight: '))\n",
        "    height = int(input('What is your height in centimeters: '))\n",
        "    global c1\n",
        "    if gender == 'male':\n",
        "        c1 = 66\n",
        "        hm = 6.2 * height\n",
        "        wm = 13.7 * weight\n",
        "        am = 6.76 * age\n",
        "    elif gender == 'female':\n",
        "        c1 = 655\n",
        "        hm = 1.8 * height\n",
        "        wm = 4.7 * weight\n",
        "        am = 4.7 * age\n",
        "    #BMR = 665 + (9.6 X 69) + (1.8 x 178) – (4.7 x 27)\n",
        "    bmr_result = c1 + hm + wm - am\n",
        "    return(int(bmr_result))\n",
        "def calculate_activity(bmr_result): \n",
        "    activity_level = input('What is your activity level (none, light, moderate, heavy, or extreme): ')\n",
        "    if activity_level == 'none':\n",
        "        activity_level = 1.2 * bmr_result\n",
        "    elif activity_level == 'light':\n",
        "        activity_level = 1.375 * bmr_result\n",
        "    elif activity_level == 'moderate':\n",
        "        activity_level = 1.55 * bmr_result\n",
        "    elif activity_level == 'heavy':\n",
        "        activity_level = 1.725 * bmr_result\n",
        "    elif activity_level == 'extreme':\n",
        "        activity_level = 1.9 * bmr_result\n",
        "    return(int(activity_level))\n",
        "def gain_or_lose(activity_level):\n",
        "    goals = input('Do you want to lose, maintain, or gain weight: ')\n",
        "    if goals == 'lose':\n",
        "        calories = activity_level - 500\n",
        "    elif goals == 'maintain':\n",
        "        calories = activity_level\n",
        "    elif goals == 'gain':\n",
        "        gain = int(input('Gain 1 or 2 pounds per week? Enter 1 or 2: '))\n",
        "        if gain == 1: \n",
        "            calories = activity_level + 500\n",
        "        elif gain == 2:\n",
        "            calories = activity_level + 1000\n",
        "    print('in order to ', goals, 'weight, your daily caloric goals should be', int(calories), '!')\n",
        "gain_or_lose(calculate_activity(user_info()))"
      ]
    }
  ]
}